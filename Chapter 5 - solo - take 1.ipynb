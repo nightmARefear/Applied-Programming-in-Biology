{
 "cells": [
  {
   "cell_type": "code",
   "execution_count": 27,
   "metadata": {},
   "outputs": [
    {
     "name": "stdout",
     "output_type": "stream",
     "text": [
      "{'A': 0.8721742704480066, 'B': 0.8286861234675057, 'C': 0.8232432432432433, 'D': 0.8365436349940816}\n",
      "A\n"
     ]
    }
   ],
   "source": [
    "def is_nucleotide_base(base):\n",
    "    used_bases = ['A', 'T', 'C', 'G']\n",
    "    if base in used_bases:\n",
    "        return True\n",
    "    else:\n",
    "        \n",
    "        return False\n",
    "def is_base_pair(baseA, baseB):\n",
    "    if is_nucleotide_base(baseA) == True and is_nucleotide_base(baseB) == True:\n",
    "        if baseA == baseB:\n",
    "            return True\n",
    "    else:\n",
    "        False\n",
    "\n",
    "def read_data(file_name):\n",
    "    f = open(file_name)\n",
    "    genome = []\n",
    "    for line in f:\n",
    "        sequence = line.strip()\n",
    "        genome.append(sequence)\n",
    "    return genome\n",
    "\n",
    "def sequence_similarity(seq1, seq2):\n",
    "    total_matches = 0\n",
    "    for nucleotide in range(len(seq1)):\n",
    "        if seq1[nucleotide] == seq2[nucleotide]:\n",
    "            total_matches += 1\n",
    "    return total_matches/len(seq1)\n",
    "\n",
    "def alignment_similarity(seq1, seq2):\n",
    "    double_gaps = 0\n",
    "    total_matches = 0\n",
    "    for nucleotide in range(len(seq1)):\n",
    "        if seq1[nucleotide] == '-' and seq2[nucleotide] == '-':\n",
    "            double_gaps += 1\n",
    "        elif seq1[nucleotide] == seq2[nucleotide]:\n",
    "            total_matches += 1\n",
    "\n",
    "    return total_matches/(len(seq1)-double_gaps)     \n",
    "\n",
    "def get_similarities(unknown, typed_sequences):\n",
    "    similarities = []\n",
    "    for sequence in typed_sequences:\n",
    "        similarities.append(alignment_similarity(unknown, sequence))\n",
    "    return similarities\n",
    "    \n",
    "    \n",
    "subtypeA_list = read_data('subtypeA.txt')\n",
    "subtypeB_list = read_data('subtypeB.txt')\n",
    "subtypeC_list = read_data('subtypeC.txt')\n",
    "subtypeD_list = read_data('subtypeD.txt')\n",
    "unknownType_list = read_data('unknownType.txt')\n",
    "\n",
    "def get_all_similarities(unknown):\n",
    "    return {'A': max(get_similarities(unknown, subtypeA_list)),\n",
    "            'B': max(get_similarities(unknown, subtypeB_list)),\n",
    "            'C': max(get_similarities(unknown, subtypeC_list)),\n",
    "            'D': max(get_similarities(unknown, subtypeD_list))}\n",
    "\n",
    "def predict_subtype(unknown):\n",
    "    all_similarities = get_all_similarities(unknown)\n",
    "    max_similarity = -1\n",
    "    max_key = ''\n",
    "    \n",
    "    for key in all_similarities.keys():\n",
    "        if all_similarities[key] > max_similarity:\n",
    "            max_similarity = all_similarities[key]\n",
    "            max_key = key\n",
    "    return max_key\n",
    "\n",
    "print(get_all_similarities(unknownType_list[0]))\n",
    "print(predict_subtype(unknownType_list[0]))"
   ]
  },
  {
   "cell_type": "code",
   "execution_count": null,
   "metadata": {},
   "outputs": [],
   "source": []
  }
 ],
 "metadata": {
  "kernelspec": {
   "display_name": "Python 3",
   "language": "python",
   "name": "python3"
  },
  "language_info": {
   "codemirror_mode": {
    "name": "ipython",
    "version": 3
   },
   "file_extension": ".py",
   "mimetype": "text/x-python",
   "name": "python",
   "nbconvert_exporter": "python",
   "pygments_lexer": "ipython3",
   "version": "3.7.6"
  }
 },
 "nbformat": 4,
 "nbformat_minor": 4
}
