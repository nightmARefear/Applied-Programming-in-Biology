{
 "cells": [
  {
   "cell_type": "code",
   "execution_count": 28,
   "metadata": {},
   "outputs": [
    {
     "name": "stdout",
     "output_type": "stream",
     "text": [
      "0\n",
      "1\n",
      "2\n",
      "3 - y\n",
      "4\n",
      "5\n",
      "6 - y\n",
      "7\n",
      "8\n",
      "['ATC', 'GAC']\n"
     ]
    }
   ],
   "source": [
    "sequence1 = 'ATCGACCTA'\n",
    "sequence2 = 'CTCAATCAA'\n",
    "\n",
    "seq1 = []\n",
    "seq2 = []\n",
    "y = []\n",
    "for i in range(len(sequence1)):\n",
    "    if len(y) == 3:\n",
    "        y = ''.join(y)\n",
    "        seq1.append(y)\n",
    "        y = []\n",
    "        y.append(sequence1[i])\n",
    "        print('{} - y'.format(i))\n",
    "    else:\n",
    "        print(i)\n",
    "        y.append(sequence1[i])\n",
    "print(seq1) "
   ]
  },
  {
   "cell_type": "code",
   "execution_count": 31,
   "metadata": {},
   "outputs": [
    {
     "name": "stdout",
     "output_type": "stream",
     "text": [
      "0\n",
      "1\n",
      "2\n",
      "3\n",
      "4\n",
      "5\n",
      "6 - y\n",
      "7\n",
      "8\n",
      "['ATCGAC']\n"
     ]
    }
   ],
   "source": [
    "# as we can clearly see, the above code only copies the forst 2 codons of the particular sequence\n",
    "\n",
    "sequence1 = 'ATCGACCTA'\n",
    "sequence2 = 'CTCAATCAA'\n",
    "\n",
    "seq1 = []\n",
    "seq2 = []\n",
    "y = []\n",
    "for i in range(len(sequence1)):\n",
    "    if ((i+3) == len(sequence1)):\n",
    "        y = ''.join(y)\n",
    "        seq1.append(y)\n",
    "        y = []\n",
    "        y.append(sequence1[i])\n",
    "        print('{} - y'.format(i))\n",
    "    else:\n",
    "        print(i)\n",
    "        y.append(sequence1[i])\n",
    "print(seq1) \n"
   ]
  },
  {
   "cell_type": "code",
   "execution_count": 33,
   "metadata": {},
   "outputs": [
    {
     "name": "stdout",
     "output_type": "stream",
     "text": [
      "0.75\n"
     ]
    }
   ],
   "source": [
    "seq1 = 'AGTC'\n",
    "seq2 = 'AGTT'\n",
    "\n",
    "def sequence_similarity(seq1, seq2):\n",
    "    similarities = 0\n",
    "    for index in range(len(seq1)):\n",
    "        if(seq1[index] == seq2[index]):\n",
    "            similarities +=1\n",
    "    perc_of_similarity = similarities/len(seq1)\n",
    "    return perc_of_similarity\n",
    "perc = sequence_similarity(seq1, seq2)\n",
    "print(perc)"
   ]
  },
  {
   "cell_type": "code",
   "execution_count": 81,
   "metadata": {},
   "outputs": [
    {
     "name": "stdout",
     "output_type": "stream",
     "text": [
      "A\n",
      "A\n",
      "\n",
      "-\n",
      "-\n",
      "\n",
      "C\n",
      "C\n",
      "\n",
      "T\n",
      "T\n",
      "\n",
      "A\n",
      "A\n",
      "\n",
      "5\n",
      "1.0\n"
     ]
    }
   ],
   "source": [
    "def is_nucleotide(x):\n",
    "    if (x == 'A' or x == 'a' or x == 'T' or x == 't' or x == 'G' or x == 'g' or x == 'C' or x == 'c'):\n",
    "        return True\n",
    "    else:\n",
    "        return False\n",
    "    \n",
    "def is_nucleotide_base(baseA, baseB):\n",
    "    if ((baseA == 'a' or baseA == 'A') and (baseB == 't' or baseB == 'T') or (baseA == 't' or baseA == 'T') and (baseB == 'a' or baseB == 'A')):\n",
    "        return True\n",
    "    elif ((baseA == 'c' or baseA == 'C') and (baseB == 'g' or baseB == 'G') or (baseA == 'g' or baseA == 'G') and (baseB == 'c' or baseB == 'C')):\n",
    "        return True\n",
    "    else:\n",
    "        return False\n",
    "    \n",
    "def sequence_similarity(seq1, seq2):\n",
    "    matches = 0\n",
    "    for i in range(len(seq1)):\n",
    "        if (seq1[i] == seq2[i]):\n",
    "            matches += 1\n",
    "    similarity = matches/len(seq1)\n",
    "    return similarity\n",
    "                        \n",
    "def alignment_similarity(seq1, seq2):\n",
    "    nucleotide_matches = 0\n",
    "    single_gaps = 0\n",
    "    double_gaps = 0\n",
    "    total_gaps = 0\n",
    "    \n",
    "    for i in range(len(seq1)):\n",
    "        if (seq1[i] == seq2[i]):\n",
    "            print('{}\\n{}\\n'.format(seq1[i], seq2[i]))\n",
    "            nucleotide_matches += 1\n",
    "        elif (seq1[i] == '-' and seq2[i] == '-'):\n",
    "            single_gaps += 1\n",
    "        elif (seq1[i] == '-' or seq2[i] == '-'):\n",
    "            double_gaps += 1\n",
    "    print(nucleotide_matches)   \n",
    "    total_bases = nucleotide_matches + single_gaps\n",
    "    similarity = nucleotide_matches/total_bases\n",
    "    return similarity\n",
    "\n",
    "seq1 = 'A-CT-A'\n",
    "seq2 = 'A-CTTA'\n",
    "print(alignment_similarity(seq1, seq2))"
   ]
  },
  {
   "cell_type": "code",
   "execution_count": null,
   "metadata": {},
   "outputs": [],
   "source": []
  },
  {
   "cell_type": "code",
   "execution_count": null,
   "metadata": {},
   "outputs": [],
   "source": []
  }
 ],
 "metadata": {
  "kernelspec": {
   "display_name": "Python 3",
   "language": "python",
   "name": "python3"
  },
  "language_info": {
   "codemirror_mode": {
    "name": "ipython",
    "version": 3
   },
   "file_extension": ".py",
   "mimetype": "text/x-python",
   "name": "python",
   "nbconvert_exporter": "python",
   "pygments_lexer": "ipython3",
   "version": "3.7.6"
  }
 },
 "nbformat": 4,
 "nbformat_minor": 4
}
