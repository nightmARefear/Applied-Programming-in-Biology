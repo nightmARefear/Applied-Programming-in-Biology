{
 "cells": [
  {
   "cell_type": "code",
   "execution_count": 35,
   "metadata": {},
   "outputs": [
    {
     "name": "stdout",
     "output_type": "stream",
     "text": [
      "{'A': 0.8721742704480066, 'B': 0.8286861234675057, 'C': 0.8232432432432433, 'D': 0.8365436349940816}\n",
      "A\n"
     ]
    }
   ],
   "source": [
    "def read_data(file_name):\n",
    "    f = open(file_name)\n",
    "    sequence_list = list()\n",
    "    for line in f:\n",
    "        seq = line.strip()\n",
    "        sequence_list.append(seq)\n",
    "    f.close()\n",
    "    return sequence_list\n",
    "\n",
    "def sequence_similarity(seq1, seq2):\n",
    "    total_matches = 0\n",
    "    for nucleotide in range(len(seq1)):\n",
    "        if seq1[nucleotide] == seq2[nucleotide]:\n",
    "            total_matches += 1\n",
    "    return total_matches/len(seq1)\n",
    "\n",
    "def alignment_similarity(seq1, seq2):\n",
    "    total_matches = 0\n",
    "    double_gaps = 0\n",
    "    for nucleotide in range(len(seq1)):\n",
    "        if seq1[nucleotide] == '-' and seq2[nucleotide] == '-':\n",
    "            double_gaps += 1\n",
    "        elif seq1[nucleotide] == seq2[nucleotide]:\n",
    "            total_matches += 1\n",
    "    return total_matches/(len(seq1)-double_gaps)\n",
    "\n",
    "def get_similarities(unknown, typed_sequences):\n",
    "    similarities = []\n",
    "    for sequence in typed_sequences:\n",
    "        similarities.append(alignment_similarity(unknown, sequence))\n",
    "    return similarities\n",
    "\n",
    "subtypeA_list = read_data('subtypeA.txt')\n",
    "subtypeB_list = read_data('subtypeB.txt')\n",
    "subtypeC_list = read_data('subtypeC.txt')\n",
    "subtypeD_list = read_data('subtypeD.txt')\n",
    "unknown_list = read_data('unknownType.txt')\n",
    "\n",
    "def get_all_similarities(unknown):\n",
    "    return {'A': max(get_similarities(unknown, subtypeA_list)), \n",
    "            'B': max(get_similarities(unknown, subtypeB_list)), \n",
    "            'C': max(get_similarities(unknown, subtypeC_list)), \n",
    "            'D': max(get_similarities(unknown, subtypeD_list))}\n",
    "\n",
    "def predict_subtype(unknown):\n",
    "    import operator\n",
    "    subtypes_similarities = {'A': max(get_similarities(unknown, subtypeA_list)), \n",
    "            'B': max(get_similarities(unknown, subtypeB_list)), \n",
    "            'C': max(get_similarities(unknown, subtypeC_list)), \n",
    "            'D': max(get_similarities(unknown, subtypeD_list))}\n",
    "    max_similarity = max(subtypes_similarities.items(), key=operator.itemgetter(1))[0]\n",
    "    return max_similarity\n",
    "\n",
    "print(get_all_similarities(unknown_list[0]))\n",
    "print(predict_subtype(unknownType_list))"
   ]
  },
  {
   "cell_type": "code",
   "execution_count": null,
   "metadata": {},
   "outputs": [],
   "source": []
  },
  {
   "cell_type": "code",
   "execution_count": null,
   "metadata": {},
   "outputs": [],
   "source": []
  }
 ],
 "metadata": {
  "kernelspec": {
   "display_name": "Python 3",
   "language": "python",
   "name": "python3"
  },
  "language_info": {
   "codemirror_mode": {
    "name": "ipython",
    "version": 3
   },
   "file_extension": ".py",
   "mimetype": "text/x-python",
   "name": "python",
   "nbconvert_exporter": "python",
   "pygments_lexer": "ipython3",
   "version": "3.7.6"
  }
 },
 "nbformat": 4,
 "nbformat_minor": 4
}
