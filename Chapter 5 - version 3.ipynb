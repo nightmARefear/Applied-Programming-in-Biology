{
 "cells": [
  {
   "cell_type": "code",
   "execution_count": 7,
   "metadata": {},
   "outputs": [
    {
     "name": "stdout",
     "output_type": "stream",
     "text": [
      "0.0\n"
     ]
    }
   ],
   "source": [
    "def read_data(file_name):\n",
    "    f = open(file_name)\n",
    "    sequence_list = list()\n",
    "    for line in f:\n",
    "        seq = line.strip()\n",
    "        sequence_list.append(seq)\n",
    "    f.close()\n",
    "    return sequence_list\n",
    "\n",
    "def is_nucleotide(x):\n",
    "    used_nucleotides = ['A', 'T', 'C', 'G']\n",
    "    x = x.upper()\n",
    "    if x in used_nucleotides:\n",
    "        return True\n",
    "    else:\n",
    "        False\n",
    "    \n",
    "def is_nucleotide_base(baseA, baseB):\n",
    "    if ((baseA == 'a' or baseA == 'A') and (baseB == 't' or baseB == 'T') or (baseA == 't' or baseA == 'T') and (baseB == 'a' or baseB == 'A')):\n",
    "        return True\n",
    "    elif ((baseA == 'c' or baseA == 'C') and (baseB == 'g' or baseB == 'G') or (baseA == 'g' or baseA == 'G') and (baseB == 'c' or baseB == 'C')):\n",
    "        return True\n",
    "    else:\n",
    "        return False\n",
    "    \n",
    "def sequence_similarity(seq1, seq2):\n",
    "    matches = 0\n",
    "    for i in range(len(seq1)):\n",
    "        if (seq1[i] == seq2[i]):\n",
    "            matches += 1\n",
    "    similarity = matches/len(seq1)\n",
    "    return similarity\n",
    "                        \n",
    "def alignment_similarity(seq1, seq2):\n",
    "    nucleotide_matches = 0\n",
    "    single_gaps = 0\n",
    "    double_gaps = 0\n",
    "    total_gaps = 0\n",
    "  \n",
    "    if len(seq1) > len(seq2):\n",
    "        min_length = len(seq2)\n",
    "    else: # both cases: 1) len(seq1) == len(seq2), and 2) len(seq1) <= len(seq2)\n",
    "        min_length = len(seq1) \n",
    "\n",
    "    for i in range(min_length):\n",
    "        if (seq1[i] == '-' and  seq2[i] == '-'):\n",
    "            double_gaps += 1\n",
    "        elif (seq1[i] == seq2[i]):\n",
    "            nucleotide_matches += 1\n",
    "        elif (seq1[i] == '-' or seq2[i] == '-'):\n",
    "            single_gaps += 1\n",
    "            \n",
    "    total_bases = nucleotide_matches + single_gaps\n",
    "    similarity = nucleotide_matches/total_bases\n",
    "    return similarity\n",
    "\n",
    "def get_similarities(unknown, typed_sequences):\n",
    "        similarities = []\n",
    "        \n",
    "        similarity = alignment_similarity(unknown, typed_sequences)\n",
    "        return similarity\n",
    "\n",
    "subtypeA_list = read_data('subtypeA.txt')\n",
    "subtypeB_list = read_data('subtypeB.txt')\n",
    "subtypeC_list = read_data('subtypeC.txt')\n",
    "subtypeD_list = read_data('subtypeD.txt')\n",
    "unknown_list = read_data('unknownType.txt')\n",
    "\n",
    "all_subtypes_list = [subtypeA_list, subtypeB_list, subtypeC_list, subtypeD_list]\n",
    "\n",
    "similarity = get_similarities(unknown_list, subtypeA_list[0])\n",
    "print(similarity)\n"
   ]
  },
  {
   "cell_type": "code",
   "execution_count": null,
   "metadata": {},
   "outputs": [],
   "source": []
  }
 ],
 "metadata": {
  "kernelspec": {
   "display_name": "Python 3",
   "language": "python",
   "name": "python3"
  },
  "language_info": {
   "codemirror_mode": {
    "name": "ipython",
    "version": 3
   },
   "file_extension": ".py",
   "mimetype": "text/x-python",
   "name": "python",
   "nbconvert_exporter": "python",
   "pygments_lexer": "ipython3",
   "version": "3.7.6"
  }
 },
 "nbformat": 4,
 "nbformat_minor": 4
}
